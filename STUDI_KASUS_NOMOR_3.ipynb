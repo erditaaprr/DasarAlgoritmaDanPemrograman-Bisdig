{
  "nbformat": 4,
  "nbformat_minor": 0,
  "metadata": {
    "colab": {
      "provenance": []
    },
    "kernelspec": {
      "name": "python3",
      "display_name": "Python 3"
    },
    "language_info": {
      "name": "python"
    }
  },
  "cells": [
    {
      "cell_type": "markdown",
      "source": [
        "# **STUDI KASUS FAKTORIAL**"
      ],
      "metadata": {
        "id": "UNr_p0PT-ciC"
      }
    },
    {
      "cell_type": "code",
      "source": [
        "def faktorial_rekursif(n):\n",
        "    \"\"\"\n",
        "    Menghitung faktorial dari bilangan n menggunakan metode rekursif.\n",
        "\n",
        "    Args:\n",
        "        n (int): Bilangan bulat non-negatif untuk dihitung faktorialnya.\n",
        "\n",
        "    Returns:\n",
        "        int: Hasil faktorial dari n.\n",
        "        ValueError: Jika input bukan bilangan bulat non-negatif.\n",
        "    \"\"\"\n",
        "    if not isinstance(n, int) or n < 0:\n",
        "        raise ValueError(\"Input harus bilangan bulat non-negatif.\")\n",
        "    elif n == 0:\n",
        "        return 1  # Kasus dasar: 0! = 1\n",
        "    else:\n",
        "        return n * faktorial_rekursif(n - 1)  # Langkah rekursif\n",
        "\n",
        "# Contoh penggunaan fungsi\n",
        "try:\n",
        "    angka = int(input(\"Masukkan bilangan bulat non-negatif: \"))\n",
        "    hasil_faktorial = faktorial_rekursif(angka)\n",
        "    print(f\"Faktorial dari {angka} adalah {hasil_faktorial}\")\n",
        "except ValueError as e:\n",
        "    print(f\"Error: {e}\")"
      ],
      "metadata": {
        "colab": {
          "base_uri": "https://localhost:8080/"
        },
        "id": "NGAbY7nsCEng",
        "outputId": "9d73f599-c118-4814-bc06-ab9a923b1efc"
      },
      "execution_count": null,
      "outputs": [
        {
          "output_type": "stream",
          "name": "stdout",
          "text": [
            "Masukkan bilangan bulat non-negatif: 20\n",
            "Faktorial dari 20 adalah 2432902008176640000\n"
          ]
        }
      ]
    }
  ]
}