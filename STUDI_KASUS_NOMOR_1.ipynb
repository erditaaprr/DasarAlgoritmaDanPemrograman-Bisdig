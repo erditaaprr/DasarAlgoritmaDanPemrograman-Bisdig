{
  "nbformat": 4,
  "nbformat_minor": 0,
  "metadata": {
    "colab": {
      "provenance": []
    },
    "kernelspec": {
      "name": "python3",
      "display_name": "Python 3"
    },
    "language_info": {
      "name": "python"
    }
  },
  "cells": [
    {
      "cell_type": "markdown",
      "source": [
        "# **STUDI KASUS SISTEM E-COMMERCE**"
      ],
      "metadata": {
        "id": "igzkeqFF6dgK"
      }
    },
    {
      "cell_type": "code",
      "source": [
        "def hitung_total_bayar(total_belanja):\n",
        "    \"\"\"\n",
        "    Menghitung total pembayaran setelah menerapkan diskon jika memenuhi syarat.\n",
        "\n",
        "    Args:\n",
        "        total_belanja (float): Total nilai belanja pelanggan.\n",
        "\n",
        "    Returns:\n",
        "        float: Total pembayaran setelah diskon (jika ada).\n",
        "    \"\"\"\n",
        "    batas_diskon = 500000\n",
        "    persentase_diskon = 0.10  # 10%\n",
        "\n",
        "    if total_belanja > batas_diskon:\n",
        "        diskon = persentase_diskon * total_belanja\n",
        "        total_bayar = total_belanja - diskon\n",
        "        print(f\"Selamat! Anda mendapatkan diskon {int(persentase_diskon * 100)}%.\")\n",
        "        print(f\"Diskon sebesar: Rp {diskon:,.2f}\")\n",
        "    else:\n",
        "        total_bayar = total_belanja\n",
        "        print(\"Total belanja Anda belum memenuhi syarat untuk mendapatkan diskon.\")\n",
        "\n",
        "    return total_bayar\n",
        "\n",
        "# Contoh penggunaan program\n",
        "total_belanja_1 = 600000\n",
        "total_bayar_1 = hitung_total_bayar(total_belanja_1)\n",
        "print(f\"Total belanja: Rp {total_belanja_1:,.2f}\")\n",
        "print(f\"Total bayar setelah diskon: Rp {total_bayar_1:,.2f}\\n\")\n",
        "\n",
        "total_belanja_2 = 450000\n",
        "total_bayar_2 = hitung_total_bayar(total_belanja_2)\n",
        "print(f\"Total belanja: Rp {total_belanja_2:,.2f}\")\n",
        "print(f\"Total bayar setelah diskon: Rp {total_bayar_2:,.2f}\")"
      ],
      "metadata": {
        "colab": {
          "base_uri": "https://localhost:8080/"
        },
        "id": "XjFxMyc3zg58",
        "outputId": "8cd5b314-658a-49c9-a433-1159bb435a3e"
      },
      "execution_count": null,
      "outputs": [
        {
          "output_type": "stream",
          "name": "stdout",
          "text": [
            "Selamat! Anda mendapatkan diskon 10%.\n",
            "Diskon sebesar: Rp 60,000.00\n",
            "Total belanja: Rp 600,000.00\n",
            "Total bayar setelah diskon: Rp 540,000.00\n",
            "\n",
            "Total belanja Anda belum memenuhi syarat untuk mendapatkan diskon.\n",
            "Total belanja: Rp 450,000.00\n",
            "Total bayar setelah diskon: Rp 450,000.00\n"
          ]
        }
      ]
    }
  ]
}