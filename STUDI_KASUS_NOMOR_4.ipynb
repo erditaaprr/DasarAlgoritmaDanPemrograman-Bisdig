{
  "nbformat": 4,
  "nbformat_minor": 0,
  "metadata": {
    "colab": {
      "provenance": []
    },
    "kernelspec": {
      "name": "python3",
      "display_name": "Python 3"
    },
    "language_info": {
      "name": "python"
    }
  },
  "cells": [
    {
      "cell_type": "markdown",
      "source": [
        "# **STUDI KASUS MENCARI NILAI TERTINGGI**"
      ],
      "metadata": {
        "id": "i8yJraoz_QoM"
      }
    },
    {
      "cell_type": "code",
      "source": [
        "def cari_nilai_tertinggi():\n",
        "    \"\"\"\n",
        "    Menerima input nilai dari 5 siswa, menyimpan dalam list,\n",
        "    dan menampilkan nilai tertinggi serta posisi siswa yang mendapatkannya.\n",
        "    \"\"\"\n",
        "    jumlah_siswa = 5\n",
        "    daftar_nilai = []\n",
        "\n",
        "    # Perulangan untuk menerima input nilai\n",
        "    print(\"--- Input Nilai Siswa ---\")\n",
        "    for i in range(jumlah_siswa):\n",
        "        while True:\n",
        "            try:\n",
        "                nilai = float(input(f\"Masukkan nilai siswa ke-{i+1}: \"))\n",
        "                if 0 <= nilai <= 100:  # Validasi rentang nilai\n",
        "                    daftar_nilai.append(nilai)\n",
        "                    break\n",
        "                else:\n",
        "                    print(\"Nilai harus antara 0 dan 100. Silakan coba lagi.\")\n",
        "            except ValueError:\n",
        "                print(\"Input tidak valid. Masukkan angka.\")\n",
        "\n",
        "    # Mencari nilai tertinggi dan posisinya\n",
        "    nilai_tertinggi = daftar_nilai[0]\n",
        "    posisi_tertinggi = 1  # Siswa ke-1 (indeks 0 + 1)\n",
        "\n",
        "    for i in range(1, jumlah_siswa):\n",
        "        if daftar_nilai[i] > nilai_tertinggi:\n",
        "            nilai_tertinggi = daftar_nilai[i]\n",
        "            posisi_tertinggi = i + 1\n",
        "\n",
        "    # Menampilkan hasil\n",
        "    print(\"\\n--- Hasil ---\")\n",
        "    print(f\"Nilai tertinggi adalah: {nilai_tertinggi}\")\n",
        "    print(f\"Nilai tertinggi didapatkan oleh siswa ke-{posisi_tertinggi}\")\n",
        "\n",
        "# Memanggil fungsi untuk menjalankan program\n",
        "cari_nilai_tertinggi()"
      ],
      "metadata": {
        "colab": {
          "base_uri": "https://localhost:8080/"
        },
        "id": "32j9LUfzHj1t",
        "outputId": "44bf3312-67d3-48ef-bc68-f6f767d00dea"
      },
      "execution_count": null,
      "outputs": [
        {
          "output_type": "stream",
          "name": "stdout",
          "text": [
            "--- Input Nilai Siswa ---\n",
            "Masukkan nilai siswa ke-1: 25\n",
            "Masukkan nilai siswa ke-2: 89\n",
            "Masukkan nilai siswa ke-3: 75\n",
            "Masukkan nilai siswa ke-4: 81\n",
            "Masukkan nilai siswa ke-5: 30\n",
            "\n",
            "--- Hasil ---\n",
            "Nilai tertinggi adalah: 89.0\n",
            "Nilai tertinggi didapatkan oleh siswa ke-2\n"
          ]
        }
      ]
    }
  ]
}