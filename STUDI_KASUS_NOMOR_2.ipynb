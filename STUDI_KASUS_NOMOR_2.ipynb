{
  "nbformat": 4,
  "nbformat_minor": 0,
  "metadata": {
    "colab": {
      "provenance": []
    },
    "kernelspec": {
      "name": "python3",
      "display_name": "Python 3"
    },
    "language_info": {
      "name": "python"
    }
  },
  "cells": [
    {
      "cell_type": "markdown",
      "source": [
        "# **STUDI KASUS NILAI RATA RATA**"
      ],
      "metadata": {
        "id": "ptcQeHhx9VNj"
      }
    },
    {
      "cell_type": "code",
      "source": [
        "# Input nilai dari tiga mata pelajaran\n",
        "try:\n",
        "    nilai1 = int(input(\"Masukkan nilai mata pelajaran pertama: \"))\n",
        "    nilai2 = int(input(\"Masukkan nilai mata pelajaran kedua: \"))\n",
        "    nilai3 = int(input(\"Masukkan nilai mata pelajaran ketiga: \"))\n",
        "except ValueError:\n",
        "    print(\"Error: Masukkan nilai berupa angka bulat.\")\n",
        "    exit()\n",
        "\n",
        "# Menghitung total nilai (menggunakan operator penjumlahan)\n",
        "total_nilai = nilai1 + nilai2 + nilai3\n",
        "\n",
        "# Menghitung rata-rata nilai (menggunakan operator pembagian)\n",
        "jumlah_mata_pelajaran = 3\n",
        "rata_rata = total_nilai / jumlah_mata_pelajaran  # Tipe data rata-rata akan menjadi float\n",
        "\n",
        "# Menentukan batas kelulusan\n",
        "batas_lulus = 75\n",
        "\n",
        "# Menentukan status kelulusan (menggunakan operator perbandingan)\n",
        "lulus = rata_rata >= batas_lulus  # Tipe data lulus akan menjadi boolean\n",
        "\n",
        "# Menampilkan hasil\n",
        "print(f\"\\nNilai Mata Pelajaran 1: {nilai1}\")\n",
        "print(f\"Nilai Mata Pelajaran 2: {nilai2}\")\n",
        "print(f\"Nilai Mata Pelajaran 3: {nilai3}\")\n",
        "print(f\"Rata-rata Nilai: {rata_rata:.2f}\")  # Menampilkan rata-rata dengan 2 angka desimal\n",
        "\n",
        "# Menampilkan status kelulusan (menggunakan tipe data boolean dan percabangan)\n",
        "if lulus:\n",
        "    status = \"Lulus\"\n",
        "else:\n",
        "    status = \"Tidak Lulus\"\n",
        "print(f\"Status Kelulusan: {status}\")"
      ],
      "metadata": {
        "colab": {
          "base_uri": "https://localhost:8080/"
        },
        "id": "w1vmJa7-07Xr",
        "outputId": "bcb68ff4-20d5-479e-ec43-c920d5fef708"
      },
      "execution_count": null,
      "outputs": [
        {
          "output_type": "stream",
          "name": "stdout",
          "text": [
            "Masukkan nilai mata pelajaran pertama: 60\n",
            "Masukkan nilai mata pelajaran kedua: 80\n",
            "Masukkan nilai mata pelajaran ketiga: 95\n",
            "\n",
            "Nilai Mata Pelajaran 1: 60\n",
            "Nilai Mata Pelajaran 2: 80\n",
            "Nilai Mata Pelajaran 3: 95\n",
            "Rata-rata Nilai: 78.33\n",
            "Status Kelulusan: Lulus\n"
          ]
        }
      ]
    }
  ]
}