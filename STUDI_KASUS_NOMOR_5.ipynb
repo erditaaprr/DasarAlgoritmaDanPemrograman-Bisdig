{
  "nbformat": 4,
  "nbformat_minor": 0,
  "metadata": {
    "colab": {
      "provenance": []
    },
    "kernelspec": {
      "name": "python3",
      "display_name": "Python 3"
    },
    "language_info": {
      "name": "python"
    }
  },
  "cells": [
    {
      "cell_type": "markdown",
      "source": [
        "#**STUDI KASUS SISTEM SEDERHANA UNTUK MENGHITUNG TOTAL HARGA**"
      ],
      "metadata": {
        "id": "fJqoh7lT_8Pm"
      }
    },
    {
      "cell_type": "code",
      "source": [
        "# Membaca harga barang dari input pengguna\n",
        "try:\n",
        "    harga_barang1 = float(input(\"Masukkan harga barang pertama: \"))\n",
        "    harga_barang2 = float(input(\"Masukkan harga barang kedua: \"))\n",
        "    harga_barang3 = float(input(\"Masukkan harga barang ketiga: \"))\n",
        "except ValueError:\n",
        "    print(\"Error: Masukkan harga berupa angka.\")\n",
        "    exit()\n",
        "\n",
        "# Menghitung total harga\n",
        "total_harga = harga_barang1 + harga_barang2 + harga_barang3\n",
        "\n",
        "# Menampilkan total harga\n",
        "print(\"\\n--- Total Pembayaran ---\")\n",
        "print(f\"Harga Barang 1: Rp {harga_barang1:,.2f}\")\n",
        "print(f\"Harga Barang 2: Rp {harga_barang2:,.2f}\")\n",
        "print(f\"Harga Barang 3: Rp {harga_barang3:,.2f}\")\n",
        "print(f\"Total Pembayaran: Rp {total_harga:,.2f}\")"
      ],
      "metadata": {
        "colab": {
          "base_uri": "https://localhost:8080/"
        },
        "id": "VZUgRBY3MsBR",
        "outputId": "27c9ff7f-8850-454d-9dee-7d7db3628afa"
      },
      "execution_count": null,
      "outputs": [
        {
          "output_type": "stream",
          "name": "stdout",
          "text": [
            "Masukkan harga barang pertama: 30.000\n",
            "Masukkan harga barang kedua: 56.000\n",
            "Masukkan harga barang ketiga: 98.000\n",
            "\n",
            "--- Total Pembayaran ---\n",
            "Harga Barang 1: Rp 30.00\n",
            "Harga Barang 2: Rp 56.00\n",
            "Harga Barang 3: Rp 98.00\n",
            "Total Pembayaran: Rp 184.00\n"
          ]
        }
      ]
    }
  ]
}